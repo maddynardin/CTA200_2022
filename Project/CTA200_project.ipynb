{
 "cells": [
  {
   "cell_type": "code",
   "execution_count": 2,
   "id": "135a28c6",
   "metadata": {},
   "outputs": [],
   "source": [
    "import numpy as np\n",
    "#import threading\n",
    "#import socket\n",
    "#import struct\n",
    "import requests\n",
    "import time\n",
    "import matplotlib.pyplot as plt\n",
    "import serial\n",
    "%matplotlib inline"
   ]
  },
  {
   "cell_type": "code",
   "execution_count": 3,
   "id": "b5f75fab",
   "metadata": {},
   "outputs": [],
   "source": [
    "#plotting formatting\n",
    "plt.rc('font', family ='serif')\n",
    "plt.rc('xtick',labelsize = 'x-large')\n",
    "plt.rc('ytick',labelsize = 'x-large')"
   ]
  },
  {
   "cell_type": "code",
   "execution_count": 4,
   "id": "c4a22ddb",
   "metadata": {},
   "outputs": [],
   "source": [
    "def sample_spectrum(samples=1024):\n",
    "    \"\"\" Remotely samples spectrum with Kotekan.\n",
    "    \n",
    "    Parameters\n",
    "    ----------\n",
    "    samples : float \n",
    "        Numer of samples reciever records.\n",
    "    \"\"\"\n",
    "    url = 'http://localhost:12048/spectrum_output/xengine/spectrum'\n",
    "    payload = '{\"integration_length\":%d}'%(samples)\n",
    "    headers = {'content-type': 'application/json', 'Accept-Charset': 'UTF-8'}\n",
    "    r = requests.post(url, data=payload, headers=headers)\n",
    "    return r.json()\n",
    "\n",
    "def set_freq(freq):\n",
    "    \"\"\" Sets center of 20 MHz frequency band spanned by reciever romotely with Kotekan.\n",
    "    \n",
    "    Parameters\n",
    "    ----------\n",
    "    freq : float\n",
    "        Desired center of frequency band.\n",
    "    \"\"\"\n",
    "    url = 'http://localhost:12048/airspy_input/config'\n",
    "    payload = '{\"freq\":%d}' %(freq)\n",
    "    headers = {'content-type': 'application/json', 'Accept-Charset': 'UTF-8'}\n",
    "    r = requests.post(url, data=payload, headers=headers)\n",
    "    return r\n",
    "\n",
    "def set_gain(lna=10,mix=10,ifa=10):\n",
    "    \"\"\" Sets gain field parameters of reciever romotely with Kotekan.\n",
    "    \n",
    "    Gain fields range from 0-14, with normal values around 10, and higher gains at higher numerical values.\n",
    "    Parameters\n",
    "    ----------\n",
    "    lna : float\n",
    "        Gain field.\n",
    "        \n",
    "    mix : float\n",
    "        Gain field.\n",
    "        \n",
    "    ifa : float\n",
    "        Gain field.\n",
    "    \n",
    "    Returns\n",
    "    -------\n",
    "    mean : \n",
    "        Mean value of  ADC samples.\n",
    "        \n",
    "    railfrac :\n",
    "       Fraction of samples railed (overloaded) the ADC. Typically this should be = 0.\n",
    "    \n",
    "    rms : \n",
    "       RMS (Root Mean Square) of the ADC samples. Typically this should be ≳ 300.\n",
    "    \"\"\"\n",
    "    url = 'http://localhost:12048/airspy_input/config'\n",
    "    payload = '{\"gain_lna\":%d, \"gain_mix\":%d, \"gain_if\":%d}' %(lna,mix,ifa)\n",
    "    headers = {'content-type': 'application/json', 'Accept-Charset': 'UTF-8'}\n",
    "    r = requests.post(url, data=payload, headers=headers)\n",
    "    return r.json()    \n",
    "\n",
    "def init_ns():\n",
    "    \"\"\"\n",
    "    Connects to Trinket M0 microcontroller via USB.\n",
    "    \"\"\"\n",
    "    return serial.Serial('/dev/ttyACM0', 115200)\n",
    "\n",
    "def close_ns(s):\n",
    "    \"\"\"\n",
    "    Closes serial port connected to Trinket M0 microcontroller via USB.\n",
    "    \"\"\"\n",
    "    s.close()\n",
    "    return\n",
    "\n",
    "def toggle_ns(s,powered=False):\n",
    "    \"\"\"\n",
    "    Controls Trinket M0 pin connected to Boolean controlled switch.\n",
    "    Parameters\n",
    "    ----------\n",
    "    s: \n",
    "    Serial Port\n",
    "    powered: Boolean\n",
    "        Controls the state of the switch False = off, True = on.\n",
    "    \"\"\"\n",
    "    if powered:\n",
    "        s.write('on\\r'.encode())\n",
    "    else:\n",
    "        s.write('off\\r'.encode())\n",
    "    return"
   ]
  },
  {
   "cell_type": "code",
   "execution_count": 5,
   "id": "23699045",
   "metadata": {},
   "outputs": [],
   "source": [
    "#my functions \n",
    "def mean_power(spec):\n",
    "    \"\"\" Determines mean value of power spectrum.\n",
    "    \n",
    "    First trimms the spectra to remove the roll-off that occurs at the high and low ends of the spectrum /\n",
    "    then creates a mask which enables frequencies within the band that have a power output within the /\n",
    "    range of two factors of the standard deviation of the median power.\n",
    "    \n",
    "    Paramters \n",
    "    ---------\n",
    "    spec : array\n",
    "        Recorded spectrum outputed from get_spectra()\n",
    "        \n",
    "    Returns\n",
    "    -------\n",
    "    meanpower : float\n",
    "        Mean value of masked spectrum.\n",
    "    \"\"\"\n",
    "    cropspec = spec[128:-128]\n",
    "    medpower = np.median(cropspec)\n",
    "    stdpower = np.std(cropspec)\n",
    "    \n",
    "    good_data = []\n",
    "    for i in cropspec:\n",
    "        if (i < medpower+2*stdpower) and (i > medpower-2*stdpower):\n",
    "            good_data.append(i)\n",
    "    \n",
    "    meanpower =np.mean(good_data)\n",
    "    return meanpower\n",
    "\n",
    "def y(on,off):\n",
    "    \"\"\"\n",
    "    Determines the Y-factor of two values.\n",
    "    \n",
    "    The Y-factor of two values is defined to be y = s_on/s_off.\n",
    "    Parameters\n",
    "    ----------\n",
    "    s_on : float\n",
    "        Average value of power spectrum with noise source on.\n",
    "    \n",
    "    s_off : float\n",
    "        Average value of power spectrum with noise source off.\n",
    "    \n",
    "    Returns\n",
    "    -------\n",
    "    Y : float\n",
    "        quotient of s_on, s_off.\n",
    "    \"\"\"\n",
    "    Y = on/off\n",
    "    return Y\n",
    "\n",
    "def enr(f):\n",
    "    \"\"\" Determines the Excess Noise Ratio (ENR) of the system.\n",
    "    \n",
    "    This function interpolates the numerical values documented on the Keysight 346A Noise Source Calibration Label.\n",
    "    Parameters\n",
    "    ----------\n",
    "    f : float\n",
    "        Observation frequency.\n",
    "    \n",
    "    Returns\n",
    "    -------\n",
    "    ENR : float\n",
    "        ENR value at obervation frequency in decimal form.\n",
    "    \n",
    "    ENR_dB: float\n",
    "        ENR value at obervation frequency in decibel units.\n",
    "    \"\"\"\n",
    "    f_vals = np.array([0.01,0.1,1.0,2.0,3.0])\n",
    "    enr_vals = np.array([5.20,5.38,5.19,5.01,4.85])\n",
    "    ENR_dB = np.interp(f, f_vals*1e3, enr_vals)\n",
    "    ENR = 10**(ENR_dB/10)\n",
    "    return ENR, ENR_dB\n",
    "\n",
    "def y2NF(ENR,y_val):\n",
    "    \"\"\" Calculates noise factor from y-factor.\n",
    "    \n",
    "    Parameters\n",
    "    ----------\n",
    "    ENR : float\n",
    "        ENR value at obervation frequency in decimal form.\n",
    "    \n",
    "    y_val : float\n",
    "        Y-factor obtained from y(s_on,s_off).\n",
    "        \n",
    "    Returns\n",
    "    -------\n",
    "    nf : float\n",
    "        Noise factor defined by 290*np.log10(ENR/(y_val-1)).\n",
    "    \"\"\"\n",
    "    nf = 290*np.log10(ENR/(y_val-1))\n",
    "    return nf\n",
    "\n",
    "def NF2T(nf):\n",
    "    \"\"\" Calculates noise temperature from noise factor.\n",
    "    \n",
    "    Parameters\n",
    "    ----------\n",
    "    nf : float\n",
    "      Noise factor at obervation frequency in decimal form.\n",
    "    \n",
    "    Returns\n",
    "    -------\n",
    "    Tn : float\n",
    "        Noise temperature defined by 290*(10**(nf/10)-1).\n",
    "    \"\"\"\n",
    "    return 290*(10**(nf/10)-1)"
   ]
  },
  {
   "cell_type": "markdown",
   "id": "8875b14a",
   "metadata": {},
   "source": [
    "#### Practice measuring $T_n$"
   ]
  },
  {
   "cell_type": "code",
   "execution_count": 6,
   "id": "3740c533",
   "metadata": {},
   "outputs": [],
   "source": [
    "set_freq(900)\n",
    "s = init_ns()"
   ]
  },
  {
   "cell_type": "code",
   "execution_count": 7,
   "id": "b84d30ea",
   "metadata": {},
   "outputs": [
    {
     "data": {
      "text/plain": [
       "{'mean': 18.70477294921875, 'railfrac': 0.0, 'rms': 298.8042907714844}"
      ]
     },
     "execution_count": 7,
     "metadata": {},
     "output_type": "execute_result"
    }
   ],
   "source": [
    "set_gain(lna=10,mix=10,ifa=10)"
   ]
  },
  {
   "cell_type": "code",
   "execution_count": 8,
   "id": "4408cdf3",
   "metadata": {},
   "outputs": [],
   "source": [
    "toggle_ns(s,powered=0)\n",
    "s_off=np.array(sample_spectrum(1024)['stokes_i'])\n",
    "time.sleep(0.1)\n",
    "toggle_ns(s,powered=1)\n",
    "s_on=np.array(sample_spectrum(1024)['stokes_i'])\n",
    "toggle_ns(s,powered=0)"
   ]
  },
  {
   "cell_type": "code",
   "execution_count": 12,
   "id": "2f120ab1",
   "metadata": {},
   "outputs": [
    {
     "data": {
      "text/plain": [
       "3.493313816373509"
      ]
     },
     "execution_count": 12,
     "metadata": {},
     "output_type": "execute_result"
    }
   ],
   "source": [
    "ya = y(mean_power(s_on),mean_power(s_off))\n",
    "ya"
   ]
  },
  {
   "cell_type": "code",
   "execution_count": 11,
   "id": "46d5b455",
   "metadata": {},
   "outputs": [
    {
     "data": {
      "text/plain": [
       "3.3359706590602944"
      ]
     },
     "execution_count": 11,
     "metadata": {},
     "output_type": "execute_result"
    }
   ],
   "source": [
    "ENR = enr(800)[0]\n",
    "ENR"
   ]
  },
  {
   "cell_type": "code",
   "execution_count": 13,
   "id": "b908d087",
   "metadata": {},
   "outputs": [
    {
     "data": {
      "text/plain": [
       "36.669130793787346"
      ]
     },
     "execution_count": 13,
     "metadata": {},
     "output_type": "execute_result"
    }
   ],
   "source": [
    "NF = y2NF(ENR,ya)\n",
    "NF"
   ]
  },
  {
   "cell_type": "code",
   "execution_count": 14,
   "id": "04cc6da8",
   "metadata": {},
   "outputs": [],
   "source": [
    "def measure_Tn(f, s_on,s_off, enr):\n",
    "    \"\"\" Determines noise temperature of a device in testing.\n",
    "    \n",
    "    Determines noise temperature from power spectra at a specified frequency with a linear regression /\n",
    "    generates graphical representation of results.\n",
    "    \n",
    "    Parameters\n",
    "    ----------\n",
    "    f : float\n",
    "        Specified frequency.\n",
    "    s_on : array\n",
    "        Power spectra with noise source on.\n",
    "        \n",
    "    s_off : array\n",
    "        Power spectra with noise source off.\n",
    "        \n",
    "    enr : float\n",
    "        Excess Noise Ratio (ENR) at specified frequency\n",
    "    \"\"\"\n",
    "    #Plot measured power and inut power vs T:\n",
    "    power_ns_on = mean_power(s_on)\n",
    "    power_ns_off = mean_power(s_off)\n",
    "\n",
    "    T_ns_off = 290 #K\n",
    "    T_ns_on = 290*(enr+1)\n",
    "\n",
    "    m,b = np.polyfit((T_ns_on,T_ns_off),(power_ns_on,power_ns_off),1)\n",
    "    x = np.linspace(-100,1600,50)\n",
    "\n",
    "    def linear(x):\n",
    "        return m*x+b\n",
    "\n",
    "    #find and plot x-int, y-int\n",
    "    y_int = round(linear(0),2)\n",
    "\n",
    "    T_LNA = round(linear(0)/m,2)\n",
    "    \n",
    "    fig, ax = plt.subplots(1, figsize = (10,8))\n",
    "    ax.plot(T_ns_off,power_ns_off, marker = 'o', color = 'red',linestyle = None, markeredgecolor = 'black', markersize = 8, label = r'($P_{ns\\;off},T_{ns\\;off}$)')\n",
    "    ax.plot(T_ns_on,power_ns_on,  marker = 'o', color = 'green', linestyle = None, markeredgecolor = 'black', markersize = 8, label = r'($P_{ns\\;on},T_{ns\\;on}$)')\n",
    "\n",
    "    #plot y-int\n",
    "    ax.plot(0,y_int,  marker = 'D', color = 'grey', linestyle = None, markeredgecolor = 'black', markersize = 8)\n",
    "\n",
    "    #plot line of best fit\n",
    "    ax.plot(x,linear(x), '-b', alpha = 0.4, label = f'Linear Regression y = {round(m,2)}x+{round(b,2)}')\n",
    "    \n",
    "    #annotate y-intercept\n",
    "    ax.annotate(f'$y_{{int}}$ = (0,{y_int})', (0,y_int), (0+50,y_int-10000000), fontsize = 12)\n",
    "\n",
    "    #plt.grid()\n",
    "    ax.set_title(f'Power vs Temperature at $f={f}\\; MHz$', fontsize = 18)\n",
    "    ax.set_xlabel('Temperature [K]', fontsize = 15)\n",
    "    ax.set_ylabel(r'Power [$bits^2$]', fontsize = 15)\n",
    "    ax.set_xlim(-100,1600)\n",
    "    ax.legend(fontsize=12)\n",
    "\n",
    "    txt1 = r'$T_{{LNA}} =\\; \\frac{y_{intercept}}{\\mathrm{slope}}$ ='+ f' {T_LNA} K'\n",
    "    ax.text(500,-2e8,txt1, fontsize = 15)\n",
    "\n",
    "    fig.tight_layout()\n",
    "    fig.savefig('yfactor_900')"
   ]
  },
  {
   "cell_type": "code",
   "execution_count": 15,
   "id": "b227c720",
   "metadata": {
    "scrolled": false
   },
   "outputs": [
    {
     "data": {
      "image/png": "[encoded data removed]",
      "text/plain": [
       "<Figure size 720x576 with 1 Axes>"
      ]
     },
     "metadata": {
      "needs_background": "light"
     },
     "output_type": "display_data"
    }
   ],
   "source": [
    "measure_Tn(900, s_on,s_off, ENR)"
   ]
  },
  {
   "cell_type": "markdown",
   "id": "d4241057",
   "metadata": {},
   "source": [
    "##### Frequency sweep function "
   ]
  },
  {
   "cell_type": "code",
   "execution_count": 16,
   "id": "1d6382fa",
   "metadata": {},
   "outputs": [],
   "source": [
    "def NTM(freq_list,ifa):\n",
    "    \"\"\" Automated noise frequency meter for Device Under Testing (DUT)\n",
    "    \n",
    "    Remotely records power spectra at optimal gain frequency over specified frequency band, /\n",
    "    determines average of spectrum, determines load temperatures at specified frequency, and applies /\n",
    "    linear regression to determine noise temperaure of DUT.\n",
    "    \n",
    "    Parameters\n",
    "    ----------\n",
    "    freq_list : array\n",
    "        Frequency band of DUT.\n",
    "        \n",
    "    ifa : float\n",
    "        Initial gain feild parameter.\n",
    "    \n",
    "    Returns\n",
    "    -------\n",
    "    T_DUT : Array\n",
    "        (frequency, noise temperature of DUT)\n",
    "    \n",
    "    \"\"\"\n",
    "    s = init_ns()\n",
    "    \n",
    "    T_list = []\n",
    "    for i,f in enumerate(freq_list):\n",
    "        set_freq(f)\n",
    "        #automated optimal gain setting \n",
    "        g = set_gain(lna=ifa,mix=ifa,ifa=ifa)\n",
    "        if g['railfrac']>0:\n",
    "            ifa=ifa-1\n",
    "            g = set_gain(lna=ifa,mix=ifa,ifa=ifa)\n",
    "        if g['rms']<300:\n",
    "            ifa=ifa+1\n",
    "            g = set_gain(lna=ifa,mix=ifa,ifa=ifa)\n",
    "            \n",
    "        toggle_ns(s,powered=0)\n",
    "        s_off=np.array(sample_spectrum(1024)['stokes_i'])\n",
    "        time.sleep(0.1)\n",
    "        toggle_ns(s,powered=1)\n",
    "        s_on=np.array(sample_spectrum(1024)['stokes_i'])\n",
    "        toggle_ns(s,powered=0)\n",
    "        \n",
    "        Pon_avg = np.mean(s_on)\n",
    "        Poff_avg = np.mean(s_off)\n",
    "        ya = y(Pon_avg,Poff_avg)\n",
    "        ENR = enr(f)[0]\n",
    "        \n",
    "        T_load_off = 290 \n",
    "        T_load_on = 290*(ENR+1)\n",
    "        \n",
    "        m,b = np.polyfit((T_load_off,T_load_on),(Poff_avg,Pon_avg),1)\n",
    "        x = np.linspace(0,2000,50)\n",
    "\n",
    "        def linear(x, m=m , b=b):\n",
    "            return m*x+b\n",
    "\n",
    "        #find yint => T_LNA\n",
    "        G = linear(0)\n",
    "        T_LNA = G/m\n",
    "        T_list.append(T_LNA)\n",
    "        \n",
    "    s.close()  \n",
    "    \n",
    "    return T_list"
   ]
  },
  {
   "cell_type": "code",
   "execution_count": 17,
   "id": "3a735859",
   "metadata": {
    "scrolled": false
   },
   "outputs": [],
   "source": [
    "freqs = np.arange(1100,400,-25)\n",
    "T_list = NTM(freqs, 10)"
   ]
  },
  {
   "cell_type": "markdown",
   "id": "1473dbca",
   "metadata": {},
   "source": [
    "##### Plot $T_{LNA}$ Data over frequency band"
   ]
  },
  {
   "cell_type": "code",
   "execution_count": 18,
   "id": "87899beb",
   "metadata": {},
   "outputs": [
    {
     "data": {
      "image/png": "[encoded data removed]",
      "text/plain": [
       "<Figure size 720x576 with 1 Axes>"
      ]
     },
     "metadata": {
      "needs_background": "light"
     },
     "output_type": "display_data"
    }
   ],
   "source": [
    "fig, ax = plt.subplots(1, figsize = (10,8))\n",
    "\n",
    "ax.semilogy(freqs,T_list, '.k', label = 'Data')\n",
    "ax.set_xlabel('Frequency [MHz]', fontsize = 15)\n",
    "ax.set_ylabel(r'$T_{LNA}$ [K]', fontsize = 15)\n",
    "ax.legend()\n",
    "fig.tight_layout()"
   ]
  },
  {
   "cell_type": "markdown",
   "id": "3352ef10",
   "metadata": {},
   "source": [
    "##### Read in $T_{LNA}$ data obtained from insturment data sheet (https://www.minicircuits.com/pdfs/ZX60-112LN+.pdf) "
   ]
  },
  {
   "cell_type": "code",
   "execution_count": 19,
   "id": "734d3e3d",
   "metadata": {},
   "outputs": [],
   "source": [
    "NF = np.array([1.27,1.24,1.20,1.18,1.18,1.16,1.13,1.14,1.14,1.09,1.11,1.11,1.18,1.22,1.27])\n",
    "f = np.array([400,450,500,550,600,650,700,750,800,850,900,950,1000,1050,1100])\n",
    "\n",
    "def NF2T(NF):\n",
    "    T_amb = 290\n",
    "    return T_amb*(10**(NF/10)-1)\n",
    "\n",
    "T = NF2T(NF)"
   ]
  },
  {
   "cell_type": "markdown",
   "id": "378c4863",
   "metadata": {},
   "source": [
    "##### Overlay documented $T_{LNA}$ data over $\\texttt{NTM()}$ Output"
   ]
  },
  {
   "cell_type": "code",
   "execution_count": 20,
   "id": "dd0538f5",
   "metadata": {},
   "outputs": [
    {
     "data": {
      "image/png": "[encoded data removed]",
      "text/plain": [
       "<Figure size 720x576 with 1 Axes>"
      ]
     },
     "metadata": {
      "needs_background": "light"
     },
     "output_type": "display_data"
    }
   ],
   "source": [
    "fig, ax = plt.subplots(1, figsize = (10,8))\n",
    "\n",
    "ax.semilogy(freqs,T_list, '.k', label = 'Experimentally Derived Data')\n",
    "ax.semilogy(f,T, 'sb', markersize= 3, label = 'Documented Data')\n",
    "ax.set_xlabel('Frequency [MHz]', fontsize = 15)\n",
    "ax.set_ylabel(r'$T_{LNA}$ [K]', fontsize = 15)\n",
    "ax.legend()\n",
    "fig.tight_layout()\n",
    "fig.savefig('TLNA_comp')"
   ]
  }
 ],
 "metadata": {
  "kernelspec": {
   "display_name": "Python 3 (ipykernel)",
   "language": "python",
   "name": "python3"
  },
  "language_info": {
   "codemirror_mode": {
    "name": "ipython",
    "version": 3
   },
   "file_extension": ".py",
   "mimetype": "text/x-python",
   "name": "python",
   "nbconvert_exporter": "python",
   "pygments_lexer": "ipython3",
   "version": "3.7.6"
  }
 },
 "nbformat": 4,
 "nbformat_minor": 5
}

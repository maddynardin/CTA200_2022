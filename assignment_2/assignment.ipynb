{
 "cells": [
  {
   "cell_type": "markdown",
   "id": "29a186b8",
   "metadata": {},
   "source": [
    "#### Part 1"
   ]
  },
  {
   "cell_type": "code",
   "execution_count": 1,
   "id": "e4ae030c",
   "metadata": {},
   "outputs": [],
   "source": [
    "import numpy as np"
   ]
  },
  {
   "cell_type": "code",
   "execution_count": 17,
   "id": "40bdb6e5",
   "metadata": {},
   "outputs": [],
   "source": [
    "def f(x):\n",
    "    return x**3-x**2-1\n",
    "\n",
    "def df(x):\n",
    "    return 3*x**2-2*x"
   ]
  },
  {
   "cell_type": "markdown",
   "id": "667475c4",
   "metadata": {},
   "source": [
    "#### Part 2"
   ]
  },
  {
   "cell_type": "code",
   "execution_count": 26,
   "id": "ebf7b576",
   "metadata": {},
   "outputs": [],
   "source": [
    "def newton(f, df, x0, epsilon = 1e-6, max_iter=30):\n",
    "    \"\"\" Preforms Newton Iteration of the function f with derivative df.\n",
    "        \n",
    "        Finds the root x, such that f(x) = 0 with the recursive expression \\\n",
    "        x = x0 - (f(x0)/df(x0))\n",
    "    Parameters\n",
    "    --------\n",
    "    f : function\n",
    "        f is the function the newton iteration is applied to. In this case ' \\\n",
    "        f = x^3-x^2-1.\n",
    "    \n",
    "    df : function \n",
    "        df is the derivative of the function f. In this case df = 3x^2-2x.\n",
    "    \n",
    "    x0 :\n",
    "    \n",
    "    epsilon :\n",
    "        Parameter for iteration operation, iteration should stop when f(x) < epsilon\n",
    "    \n",
    "    max_iter :\n",
    "    \n",
    "    Returns\n",
    "    -------\n",
    "    x : float\n",
    "        Root of function f determined by Newton Iteration\n",
    "    \"\"\"\n",
    "    for n in range(0,max_iter):\n",
    "        f = f(x0)\n",
    "        df = df(x0)\n",
    "        \n",
    "        if f < epsilon:\n",
    "            print(f'Found root in {n} iterations')\n",
    "            return x0\n",
    "        else: \n",
    "            x = x0 -(f/df)\n",
    "            print('Iteration failed')\n",
    "            return None"
   ]
  },
  {
   "cell_type": "code",
   "execution_count": 27,
   "id": "b463ae98",
   "metadata": {},
   "outputs": [
    {
     "name": "stdout",
     "output_type": "stream",
     "text": [
      "Found root in 0 iterations\n"
     ]
    },
    {
     "data": {
      "text/plain": [
       "1"
      ]
     },
     "execution_count": 27,
     "metadata": {},
     "output_type": "execute_result"
    }
   ],
   "source": [
    "newton(f, df, 1, epsilon = 1e-10, max_iter=10)"
   ]
  },
  {
   "cell_type": "code",
   "execution_count": null,
   "id": "57340049",
   "metadata": {},
   "outputs": [],
   "source": []
  }
 ],
 "metadata": {
  "kernelspec": {
   "display_name": "Python 3 (ipykernel)",
   "language": "python",
   "name": "python3"
  },
  "language_info": {
   "codemirror_mode": {
    "name": "ipython",
    "version": 3
   },
   "file_extension": ".py",
   "mimetype": "text/x-python",
   "name": "python",
   "nbconvert_exporter": "python",
   "pygments_lexer": "ipython3",
   "version": "3.10.2"
  }
 },
 "nbformat": 4,
 "nbformat_minor": 5
}

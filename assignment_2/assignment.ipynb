{
 "cells": [
  {
   "cell_type": "markdown",
   "id": "29a186b8",
   "metadata": {},
   "source": [
    "#### Part 1"
   ]
  },
  {
   "cell_type": "code",
   "execution_count": 2,
   "id": "e4ae030c",
   "metadata": {},
   "outputs": [],
   "source": [
    "import numpy as np"
   ]
  },
  {
   "cell_type": "code",
   "execution_count": 3,
   "id": "40bdb6e5",
   "metadata": {},
   "outputs": [],
   "source": [
    "def f(x):\n",
    "    return x**3-x**2-1\n",
    "\n",
    "def df(x):\n",
    "    return 3*x**2-2*x"
   ]
  },
  {
   "cell_type": "markdown",
   "id": "667475c4",
   "metadata": {},
   "source": [
    "#### Part 2"
   ]
  },
  {
   "cell_type": "code",
   "execution_count": 69,
   "id": "ebf7b576",
   "metadata": {},
   "outputs": [],
   "source": [
    "def newton(f, df, x0, epsilon = 1e-6, max_iter=30):\n",
    "    \"\"\" Preforms Newton Iteration to find root of the function f.\n",
    "        \n",
    "        Finds the root x, such that f(x) = 0 with the recursive expression \\\n",
    "        x = x0 - (f(x0)/df(x0)).\n",
    "    Parameters\n",
    "    --------\n",
    "    f : function\n",
    "        f is the function the newton iteration is applied to. In this case ' \\\n",
    "        f = x^3-x^2-1.\n",
    "    \n",
    "    df : function \n",
    "        df is the derivative of the function f. In this case df = 3x^2-2x.\n",
    "    \n",
    "    x0 : float\n",
    "        Initial estimate of the root. \n",
    "    \n",
    "    epsilon : float\n",
    "        Parameter for iteration operation, iteration should terminate when f(x) \\\n",
    "        < epsilon.\n",
    "    \n",
    "    max_iter : float\n",
    "        Maximum number of iterations.\n",
    "    \n",
    "    Returns\n",
    "    -------\n",
    "    x : float\n",
    "        Root of function f determined by Newton Iteration.\n",
    "    \"\"\"\n",
    "    x_n = x0\n",
    "\n",
    "    for n in range(0,max_iter):\n",
    "        F = f(x_n)\n",
    "        DF = df(x_n)\n",
    "        x_n = x_n - F/DF\n",
    "        \n",
    "        if abs(F) < epsilon:\n",
    "            print(f'Found root in {n} iterations')\n",
    "            return x_n\n",
    "        \n",
    "    print('Iteration failed')\n",
    "    return None\n",
    "            "
   ]
  },
  {
   "cell_type": "code",
   "execution_count": 70,
   "id": "b463ae98",
   "metadata": {
    "scrolled": true
   },
   "outputs": [
    {
     "name": "stdout",
     "output_type": "stream",
     "text": [
      "Found root in 5 iterations.\n"
     ]
    },
    {
     "data": {
      "text/plain": [
       "1.4655712318767877"
      ]
     },
     "execution_count": 70,
     "metadata": {},
     "output_type": "execute_result"
    }
   ],
   "source": [
    "newton(f, df, 1, epsilon = 1e-6, max_iter=30)"
   ]
  },
  {
   "cell_type": "code",
   "execution_count": 73,
   "id": "746ed47c",
   "metadata": {},
   "outputs": [
    {
     "name": "stdout",
     "output_type": "stream",
     "text": [
      "Found root in 19 iterations.\n"
     ]
    },
    {
     "data": {
      "text/plain": [
       "1.465571231876768"
      ]
     },
     "execution_count": 73,
     "metadata": {},
     "output_type": "execute_result"
    }
   ],
   "source": [
    "newton(f, df, 500, epsilon = 1e-6, max_iter=30)"
   ]
  },
  {
   "cell_type": "code",
   "execution_count": 81,
   "id": "57340049",
   "metadata": {},
   "outputs": [
    {
     "name": "stdout",
     "output_type": "stream",
     "text": [
      "1.4655712318767877 1.465571231876768\n"
     ]
    }
   ],
   "source": [
    "#check with scipy.optimize.newton()\n",
    "import scipy.optimize\n",
    "check1 = scipy.optimize.newton(f, 1, df, rtol=1.0e-06, maxiter=30, full_output=False, disp=True)\n",
    "check2 = scipy.optimize.newton(f, 500, df, rtol=1.0e-06, maxiter=30, full_output=False, disp=True)\n",
    "print(check1,check2)"
   ]
  },
  {
   "cell_type": "code",
   "execution_count": 78,
   "id": "7fb91942",
   "metadata": {},
   "outputs": [
    {
     "name": "stdout",
     "output_type": "stream",
     "text": [
      "Found root in 6 iterations.\n"
     ]
    },
    {
     "data": {
      "text/plain": [
       "1.465571231876768"
      ]
     },
     "execution_count": 78,
     "metadata": {},
     "output_type": "execute_result"
    }
   ],
   "source": [
    "#let epsilon = 1e-8\n",
    "newton(f, df, 1, epsilon = 1.0e-8, max_iter=30)"
   ]
  },
  {
   "cell_type": "markdown",
   "id": "be0c2cd9",
   "metadata": {},
   "source": [
    "Note that when epsilon was changed from 1e-6 to 1e-8 $\\tt{newton}$ required one more iteration to converge for $x0 = 1$."
   ]
  }
 ],
 "metadata": {
  "kernelspec": {
   "display_name": "Python 3 (ipykernel)",
   "language": "python",
   "name": "python3"
  },
  "language_info": {
   "codemirror_mode": {
    "name": "ipython",
    "version": 3
   },
   "file_extension": ".py",
   "mimetype": "text/x-python",
   "name": "python",
   "nbconvert_exporter": "python",
   "pygments_lexer": "ipython3",
   "version": "3.10.2"
  }
 },
 "nbformat": 4,
 "nbformat_minor": 5
}
